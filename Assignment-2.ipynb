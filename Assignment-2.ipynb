{
 "cells": [
  {
   "cell_type": "markdown",
   "metadata": {},
   "source": [
    "## TASK-2\n",
    "####   AIRSS1127\n",
    "#### PRIYANSHU LASOD\n",
    "#### Subject: Lambda Functions\n",
    "\n",
    "## Explanation of the Task:\n",
    "#### Solving various questions based on strings using lambda function.\n",
    "#### Writing own functions."
   ]
  },
  {
   "cell_type": "markdown",
   "metadata": {},
   "source": [
    "# Q1. Write a lambda expression to extract first word of a string."
   ]
  },
  {
   "cell_type": "code",
   "execution_count": 3,
   "metadata": {},
   "outputs": [
    {
     "name": "stdout",
     "output_type": "stream",
     "text": [
      "Hello\n"
     ]
    }
   ],
   "source": [
    "my_string = \"Hello python is easy\"\n",
    "fw = my_string.split()[0].strip()\n",
    "print(fw)"
   ]
  },
  {
   "cell_type": "markdown",
   "metadata": {},
   "source": [
    "# Q2.Write a function to extract first word of s string (with many words separated by space)."
   ]
  },
  {
   "cell_type": "code",
   "execution_count": 23,
   "metadata": {},
   "outputs": [
    {
     "name": "stdout",
     "output_type": "stream",
     "text": [
      "Enter A String: life is uncertain live as much as you can.\n",
      "life\n"
     ]
    }
   ],
   "source": [
    "def fWords(string):\n",
    "    return string.split()[0]    \n",
    "string=input(\"Enter A String: \")\n",
    "print(fWords(string))"
   ]
  },
  {
   "cell_type": "markdown",
   "metadata": {},
   "source": [
    "# Q3. Extract the first word from every string from a list of strings by using map function."
   ]
  },
  {
   "cell_type": "code",
   "execution_count": 24,
   "metadata": {},
   "outputs": [
    {
     "data": {
      "text/plain": [
       "['life', 'using', 'generation']"
      ]
     },
     "execution_count": 24,
     "metadata": {},
     "output_type": "execute_result"
    }
   ],
   "source": [
    "list_strings = ['life is uncertain live as much as you can.','using problem solving approach','generation of programming languages']\n",
    "list(map(fWords,list_strings))"
   ]
  },
  {
   "cell_type": "markdown",
   "metadata": {},
   "source": [
    "# Q4. Write a function to return a list of prime factors of a given number."
   ]
  },
  {
   "cell_type": "code",
   "execution_count": 29,
   "metadata": {},
   "outputs": [
    {
     "name": "stdout",
     "output_type": "stream",
     "text": [
      "enter number: 80\n",
      "2\n",
      "2\n",
      "2\n",
      "2\n",
      "5.0\n"
     ]
    }
   ],
   "source": [
    "import math\n",
    "def primeFactors(n):\n",
    "    while n % 2 == 0:\n",
    "        print(2)\n",
    "        n = n / 2\n",
    "    for i in range(3,int(math.sqrt(n))+1,2):\n",
    "        while n % i== 0:\n",
    "            print (i)\n",
    "            n = n / i\n",
    "    if n > 2:\n",
    "        print(n)\n",
    "\n",
    "n = int(input(\"enter number: \"))\n",
    "primeFactors(n)"
   ]
  },
  {
   "cell_type": "markdown",
   "metadata": {},
   "source": [
    "# Q5. Write a function that finds 2nd largest among 4 numbers (Repetitions are allowed,without sorting)."
   ]
  },
  {
   "cell_type": "code",
   "execution_count": 32,
   "metadata": {},
   "outputs": [
    {
     "name": "stdout",
     "output_type": "stream",
     "text": [
      "Enter number of elements in list: 4\n",
      "Enter elements: 67\n",
      "Enter elements: 90\n",
      "Enter elements: 56\n",
      "Enter elements: 69\n",
      "Second largest element is: 69\n"
     ]
    }
   ],
   "source": [
    "list1 = []\n",
    "num = int(input(\"Enter number of elements in list: \"))\n",
    "for i in range(1, num + 1):\n",
    "    ele = int(input(\"Enter elements: \"))\n",
    "    list1.append(ele)\n",
    "    \n",
    "print(\"Second largest element is:\", sorted(list1)[-2])"
   ]
  },
  {
   "cell_type": "code",
   "execution_count": null,
   "metadata": {},
   "outputs": [],
   "source": []
  }
 ],
 "metadata": {
  "kernelspec": {
   "display_name": "Python 3",
   "language": "python",
   "name": "python3"
  },
  "language_info": {
   "codemirror_mode": {
    "name": "ipython",
    "version": 3
   },
   "file_extension": ".py",
   "mimetype": "text/x-python",
   "name": "python",
   "nbconvert_exporter": "python",
   "pygments_lexer": "ipython3",
   "version": "3.8.5"
  }
 },
 "nbformat": 4,
 "nbformat_minor": 4
}
